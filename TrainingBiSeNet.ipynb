{
  "nbformat": 4,
  "nbformat_minor": 0,
  "metadata": {
    "colab": {
      "provenance": [],
      "authorship_tag": "ABX9TyOOna+bic3zN0a8s0myu5Pr",
      "include_colab_link": true
    },
    "kernelspec": {
      "name": "python3",
      "display_name": "Python 3"
    },
    "language_info": {
      "name": "python"
    }
  },
  "cells": [
    {
      "cell_type": "markdown",
      "metadata": {
        "id": "view-in-github",
        "colab_type": "text"
      },
      "source": [
        "<a href=\"https://colab.research.google.com/github/federicamato00/BiSeNet-Training/blob/master/TrainingBiSeNet.ipynb\" target=\"_parent\"><img src=\"https://colab.research.google.com/assets/colab-badge.svg\" alt=\"Open In Colab\"/></a>"
      ]
    },
    {
      "cell_type": "code",
      "execution_count": null,
      "metadata": {
        "id": "cTw_vbyDHYgm"
      },
      "outputs": [],
      "source": [
        "\n",
        "%cd /content/\n",
        "!git clone https://github.com/federicamato00/BiSeNet-Training.git\n",
        "%cd /content/BiSeNet-Training\n",
        "\n",
        "#Download Cityscapes Dataset\n",
        "!python -m pip install cityscapesscripts\n",
        "!csDownload leftImg8bit_trainvaltest.zip\n",
        "!csDownload gtFine_trainvaltest.zip\n",
        "%mkdir /content/BiSeNet-Training/datasets/Cityscapes/\n",
        "%cd /content/BiSeNet-Training/datasets\n",
        "\n",
        "\n",
        "!unzip leftImg8bit_trainvaltest.zip -d /content/BiSeNet-Training/datasets/Cityscapes/\n",
        "!unzip gtFine_trainvaltest.zip -d /content/BiSeNet-Training/datasets/Cityscapes/\n",
        "\n",
        "%cd /content/BiSeNet-Training/datasets/Cityscapes\n",
        "!CITYSCAPES_DATASET='.' csCreateTrainIdLabelImgs\n",
        "%cd /content/BiSeNet-Training\n",
        "!pip install visdom\n",
        "%mkdir /content/BiSeNet-Training/res/"
      ]
    },
    {
      "cell_type": "code",
      "source": [
        "!export CUDA_VISIBLE_DEVICES=0\n",
        "%cd /content/BiSeNet-Training\n",
        "!torchrun --nproc_per_node=1 /content/BiSeNet-Training/tools/train_amp.py --finetune-from /content/BiSeNet-Training/res/bisenetv1.pth --config ./configs/bisenetv1_city.py # or bisenetv1"
      ],
      "metadata": {
        "id": "Aqffe8SCHy7J"
      },
      "execution_count": null,
      "outputs": []
    }
  ]
}